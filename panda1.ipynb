{
 "cells": [
  {
   "cell_type": "markdown",
   "id": "f80e17f3-fa0c-4fa3-8f76-a6d0316e2fa7",
   "metadata": {},
   "source": [
    "What is Pandas?\n",
    "Pandas is a powerful, open-source Python library used for data manipulation, cleaning, and analysis. It provides two main data structures:\n",
    "\n",
    "Series: A one-dimensional labeled array\n",
    "DataFrame: A two-dimensional labeled table (like an Excel sheet or SQL table)\n",
    "Pandas makes working with structured data fast, expressive, and flexible.\n",
    "\n",
    "If you're working with tables, spreadsheets, or CSVs in Python—Pandas is your best friend.\n",
    "Why Use Pandas?\n",
    "Task\tWithout Pandas\tWith Pandas\n",
    "Load a CSV\topen() + loops\tpd.read_csv()\n",
    "Filter rows\tCustom loop logic\tdf[df[\"col\"] > 5]\n",
    "Group & summarize\tManual aggregation\tdf.groupby()\n",
    "Merge two datasets\tNested loops\tpd.merge()\n",
    "Pandas saves time, reduces code, and increases readability."
   ]
  },
  {
   "cell_type": "markdown",
   "id": "d25ccdbb-65d2-42ce-8987-6eed2042440a",
   "metadata": {},
   "source": [
    "\n",
    "\n",
    "## 🧠 Core Data Structures in Pandas\n",
    "\n",
    "Pandas is centered around two powerful data structures:\n",
    "\n",
    "### 🔹 Series — 1D Labeled Array\n",
    "\n",
    "* Represents a **single column** of data.\n",
    "* Functions like a list, but with **custom or default index labels**.\n",
    "* Useful for handling one-dimensional data with context (labels).\n",
    "\n",
    "### 🔹 DataFrame — 2D Labeled Table\n",
    "\n",
    "* Represents a **full table** with rows and columns.\n",
    "* Internally, it's a **collection of Series** sharing the same index.\n",
    "* Mimics a spreadsheet or SQL table structure.\n",
    "\n",
    "---\n",
    "\n",
    "### 🔑 Index and Labels\n",
    "\n",
    "* Both Series and DataFrames have an **Index**, which:\n",
    "\n",
    "  * Enables fast data lookups\n",
    "  * Aligns data during operations\n",
    "  * Facilitates merging, joining, and time series tasks\n",
    "* Column names (labels) define the structure of a DataFrame.\n",
    "\n",
    "You can **customize index and column labels** to make data more meaningful.\n",
    "\n",
    "---\n",
    "\n",
    "### 🚀 Why These Matter\n",
    "\n",
    "Understanding Series and DataFrames deeply is essential because:\n",
    "\n",
    "* **All major Pandas operations** like selection, filtering, merging, and aggregation rely on them.\n",
    "* Mastering these makes advanced data manipulation simpler and more intuitive.\n",
    "\n",
    "---\n",
    "\n",
    "### 📌 Summary\n",
    "\n",
    "| Structure     | Shape      | Description                          |\n",
    "| ------------- | ---------- | ------------------------------------ |\n",
    "| **Series**    | 1D (n,)    | Labeled array (like a single column) |\n",
    "| **DataFrame** | 2D (n x m) | Table with rows and columns          |\n",
    "\n",
    "These two structures form the **foundation of all data handling in Pandas**.\n",
    "\n",
    "---\n",
    "\n",
    "Would you like this formatted as a Markdown file for GitHub?\n"
   ]
  },
  {
   "cell_type": "code",
   "execution_count": 1,
   "id": "47ef1926-9e5f-41bf-8977-9464df290428",
   "metadata": {},
   "outputs": [
    {
     "name": "stdout",
     "output_type": "stream",
     "text": [
      "Defaulting to user installation because normal site-packages is not writeableNote: you may need to restart the kernel to use updated packages.\n",
      "\n",
      "Requirement already satisfied: pandas in c:\\programdata\\anaconda3\\lib\\site-packages (2.1.4)\n",
      "Requirement already satisfied: numpy<2,>=1.23.2 in c:\\programdata\\anaconda3\\lib\\site-packages (from pandas) (1.26.4)\n",
      "Requirement already satisfied: python-dateutil>=2.8.2 in c:\\programdata\\anaconda3\\lib\\site-packages (from pandas) (2.8.2)\n",
      "Requirement already satisfied: pytz>=2020.1 in c:\\programdata\\anaconda3\\lib\\site-packages (from pandas) (2023.3.post1)\n",
      "Requirement already satisfied: tzdata>=2022.1 in c:\\programdata\\anaconda3\\lib\\site-packages (from pandas) (2023.3)\n",
      "Requirement already satisfied: six>=1.5 in c:\\programdata\\anaconda3\\lib\\site-packages (from python-dateutil>=2.8.2->pandas) (1.16.0)\n"
     ]
    }
   ],
   "source": [
    "pip install pandas"
   ]
  },
  {
   "cell_type": "code",
   "execution_count": 2,
   "id": "d2125d51-f4df-46c6-bc2b-b1fb20faa552",
   "metadata": {},
   "outputs": [],
   "source": [
    "import pandas as pd"
   ]
  },
  {
   "cell_type": "code",
   "execution_count": 5,
   "id": "d5811493-deda-4ee2-b9f9-8b38b9e45d9c",
   "metadata": {},
   "outputs": [
    {
     "name": "stdout",
     "output_type": "stream",
     "text": [
      "0    71\n",
      "1    90\n",
      "2    81\n",
      "3    77\n",
      "dtype: int64\n"
     ]
    }
   ],
   "source": [
    "import pandas as pd\n",
    "s = pd.Series([71, 90, 81, 77])\n",
    "print(s)\n",
    "##auto inde4x"
   ]
  },
  {
   "cell_type": "code",
   "execution_count": 18,
   "id": "84f778f3-5c11-4178-a526-386f7b3e3788",
   "metadata": {},
   "outputs": [
    {
     "name": "stdout",
     "output_type": "stream",
     "text": [
      "esha      71\n",
      "kirti     90\n",
      "revati    81\n",
      "rabbit    77\n",
      "dtype: int64\n"
     ]
    }
   ],
   "source": [
    "s2 = pd.Series([71, 90, 81, 77], index=[\"esha\", \"kirti\", \"revati\", \"rabbit\"])\n",
    "print(s2)"
   ]
  },
  {
   "cell_type": "code",
   "execution_count": 19,
   "id": "d14f8d54-bde6-4eb3-997b-4b990b371559",
   "metadata": {},
   "outputs": [
    {
     "data": {
      "text/plain": [
       "71"
      ]
     },
     "execution_count": 19,
     "metadata": {},
     "output_type": "execute_result"
    }
   ],
   "source": [
    "s2[\"esha\"]"
   ]
  },
  {
   "cell_type": "code",
   "execution_count": 31,
   "id": "f3c06e82-1366-4074-8731-2fc39973bd3f",
   "metadata": {},
   "outputs": [],
   "source": [
    "data={\n",
    "    \"name\":[\"esha\", \"useless\", \"pagal\"],\n",
    "    \"age\":[25, 40, 90],\n",
    "    \"city\":[\"kuna\", \"mental\", \"hospital\"]\n",
    "}"
   ]
  },
  {
   "cell_type": "code",
   "execution_count": 32,
   "id": "fc817729-823f-4145-ae28-3fe850dcb552",
   "metadata": {},
   "outputs": [
    {
     "name": "stdout",
     "output_type": "stream",
     "text": [
      "{'name': ['esha', 'useless', 'pagal'], 'age': [25, 40, 90], 'city': ['kuna', 'mental', 'hospital']}\n"
     ]
    }
   ],
   "source": [
    "print(data)"
   ]
  },
  {
   "cell_type": "code",
   "execution_count": 36,
   "id": "e95ae62c-c1f0-4567-954e-f20acb676608",
   "metadata": {},
   "outputs": [],
   "source": [
    "df=pd.DataFrame(data)\n"
   ]
  },
  {
   "cell_type": "code",
   "execution_count": 37,
   "id": "0031e542-19f7-43ab-81f2-8cd49f52404f",
   "metadata": {},
   "outputs": [
    {
     "data": {
      "text/plain": [
       "RangeIndex(start=0, stop=3, step=1)"
      ]
     },
     "execution_count": 37,
     "metadata": {},
     "output_type": "execute_result"
    }
   ],
   "source": [
    "df.index"
   ]
  },
  {
   "cell_type": "code",
   "execution_count": 35,
   "id": "682605c1-30dd-4fd8-95fc-3f400aa83036",
   "metadata": {},
   "outputs": [
    {
     "data": {
      "text/plain": [
       "Index(['name', 'age', 'city'], dtype='object')"
      ]
     },
     "execution_count": 35,
     "metadata": {},
     "output_type": "execute_result"
    }
   ],
   "source": [
    "df.columns"
   ]
  },
  {
   "cell_type": "code",
   "execution_count": 38,
   "id": "13d60ce7-18f7-42fd-8d6f-15cfe399b716",
   "metadata": {},
   "outputs": [
    {
     "data": {
      "text/html": [
       "<div>\n",
       "<style scoped>\n",
       "    .dataframe tbody tr th:only-of-type {\n",
       "        vertical-align: middle;\n",
       "    }\n",
       "\n",
       "    .dataframe tbody tr th {\n",
       "        vertical-align: top;\n",
       "    }\n",
       "\n",
       "    .dataframe thead th {\n",
       "        text-align: right;\n",
       "    }\n",
       "</style>\n",
       "<table border=\"1\" class=\"dataframe\">\n",
       "  <thead>\n",
       "    <tr style=\"text-align: right;\">\n",
       "      <th></th>\n",
       "      <th>name</th>\n",
       "      <th>age</th>\n",
       "      <th>city</th>\n",
       "    </tr>\n",
       "  </thead>\n",
       "  <tbody>\n",
       "    <tr>\n",
       "      <th>0</th>\n",
       "      <td>esha</td>\n",
       "      <td>25</td>\n",
       "      <td>kuna</td>\n",
       "    </tr>\n",
       "    <tr>\n",
       "      <th>1</th>\n",
       "      <td>useless</td>\n",
       "      <td>40</td>\n",
       "      <td>mental</td>\n",
       "    </tr>\n",
       "    <tr>\n",
       "      <th>2</th>\n",
       "      <td>pagal</td>\n",
       "      <td>90</td>\n",
       "      <td>hospital</td>\n",
       "    </tr>\n",
       "  </tbody>\n",
       "</table>\n",
       "</div>"
      ],
      "text/plain": [
       "      name  age      city\n",
       "0     esha   25      kuna\n",
       "1  useless   40    mental\n",
       "2    pagal   90  hospital"
      ]
     },
     "execution_count": 38,
     "metadata": {},
     "output_type": "execute_result"
    }
   ],
   "source": [
    "df"
   ]
  },
  {
   "cell_type": "code",
   "execution_count": null,
   "id": "27302f65-a793-4168-a532-e30dd254828b",
   "metadata": {},
   "outputs": [],
   "source": []
  },
  {
   "cell_type": "code",
   "execution_count": null,
   "id": "e9b9288d-32a0-4c67-9e5b-679626cd4157",
   "metadata": {},
   "outputs": [],
   "source": []
  }
 ],
 "metadata": {
  "kernelspec": {
   "display_name": "Python 3 (ipykernel)",
   "language": "python",
   "name": "python3"
  },
  "language_info": {
   "codemirror_mode": {
    "name": "ipython",
    "version": 3
   },
   "file_extension": ".py",
   "mimetype": "text/x-python",
   "name": "python",
   "nbconvert_exporter": "python",
   "pygments_lexer": "ipython3",
   "version": "3.11.7"
  }
 },
 "nbformat": 4,
 "nbformat_minor": 5
}
