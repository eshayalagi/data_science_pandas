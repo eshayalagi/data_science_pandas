{
 "cells": [
  {
   "cell_type": "markdown",
   "id": "2b728fa1-cd7c-4835-8204-570af4ed6422",
   "metadata": {},
   "source": [
    "\n",
    "\n",
    "## 📁 Working with CSV, Excel, and JSON Files in Pandas\n",
    "\n",
    "Pandas simplifies reading from and writing to various file formats such as **CSV**, **Excel**, and **JSON**, making data handling seamless in data analysis workflows.\n",
    "\n",
    "---\n",
    "\n",
    "### 🟡 CSV Files\n",
    "\n",
    "**Reading CSVs**\n",
    "\n",
    "* Load tabular data from `.csv` files into DataFrames.\n",
    "* You can choose specific columns, limit the number of rows, or handle delimiters, headers, and missing values with optional parameters.\n",
    "\n",
    "**Writing CSVs**\n",
    "\n",
    "* Export DataFrames to `.csv` format.\n",
    "* Index inclusion can be controlled, making it easier to match formats or prepare clean outputs.\n",
    "\n",
    "---\n",
    "\n",
    "### 🔵 Excel Files\n",
    "\n",
    "**Reading Excel Files**\n",
    "\n",
    "* Supports reading `.xlsx` and `.xls` formats.\n",
    "* You can specify the sheet name when working with multi-sheet workbooks.\n",
    "\n",
    "**Writing Excel Files**\n",
    "\n",
    "* Allows saving data to Excel format.\n",
    "* Supports writing to multiple sheets using a single Excel writer context.\n",
    "\n",
    "---\n",
    "\n",
    "### 🟢 JSON Files\n",
    "\n",
    "**Reading JSON Files**\n",
    "\n",
    "* Parses JSON-formatted data into structured DataFrames.\n",
    "* Useful for working with nested data from web APIs or configuration files.\n",
    "\n",
    "---\n",
    "\n",
    "### 📝 Summary\n",
    "\n",
    "* Use `read_*` methods (like `read_csv`, `read_excel`, `read_json`) to import data into DataFrames.\n",
    "* Use `to_*` methods (like `to_csv`, `to_excel`) to export data from DataFrames.\n",
    "* Control output structure using parameters like `index`, `sheet_name`, and more.\n",
    "* Handling file I/O is essential for real-world data analysis and reporting.\n",
    "\n",
    "---\n",
    "\n",
    "\n"
   ]
  },
  {
   "cell_type": "markdown",
   "id": "8cf9b8e1-872f-494f-9e6b-0650d8059b00",
   "metadata": {},
   "source": [
    "import pandas as pd"
   ]
  },
  {
   "cell_type": "code",
   "execution_count": 3,
   "id": "3dbeea42-fa09-4a96-b05b-9665b649304e",
   "metadata": {},
   "outputs": [],
   "source": [
    "df = pd.read_csv(\"cleaning.csv\")"
   ]
  },
  {
   "cell_type": "code",
   "execution_count": 4,
   "id": "f622fef3-073d-452f-9989-f539300b447e",
   "metadata": {},
   "outputs": [
    {
     "data": {
      "text/html": [
       "<div>\n",
       "<style scoped>\n",
       "    .dataframe tbody tr th:only-of-type {\n",
       "        vertical-align: middle;\n",
       "    }\n",
       "\n",
       "    .dataframe tbody tr th {\n",
       "        vertical-align: top;\n",
       "    }\n",
       "\n",
       "    .dataframe thead th {\n",
       "        text-align: right;\n",
       "    }\n",
       "</style>\n",
       "<table border=\"1\" class=\"dataframe\">\n",
       "  <thead>\n",
       "    <tr style=\"text-align: right;\">\n",
       "      <th></th>\n",
       "      <th>Name</th>\n",
       "      <th>Age</th>\n",
       "      <th>City</th>\n",
       "      <th>Gender</th>\n",
       "      <th>Email</th>\n",
       "      <th>Join Date</th>\n",
       "    </tr>\n",
       "  </thead>\n",
       "  <tbody>\n",
       "    <tr>\n",
       "      <th>0</th>\n",
       "      <td>Alice</td>\n",
       "      <td>25.0</td>\n",
       "      <td>New York</td>\n",
       "      <td>F</td>\n",
       "      <td>alice@example.com</td>\n",
       "      <td>01-05-2021</td>\n",
       "    </tr>\n",
       "    <tr>\n",
       "      <th>1</th>\n",
       "      <td>Charlie</td>\n",
       "      <td>NaN</td>\n",
       "      <td>Delhi</td>\n",
       "      <td>M</td>\n",
       "      <td>charlie@example</td>\n",
       "      <td>20-07-2021</td>\n",
       "    </tr>\n",
       "    <tr>\n",
       "      <th>2</th>\n",
       "      <td>Bob</td>\n",
       "      <td>30.0</td>\n",
       "      <td>Los Angeles</td>\n",
       "      <td>M</td>\n",
       "      <td>bob@example.com</td>\n",
       "      <td>15-06-2020</td>\n",
       "    </tr>\n",
       "    <tr>\n",
       "      <th>3</th>\n",
       "      <td>Charlie</td>\n",
       "      <td>NaN</td>\n",
       "      <td>Delhi</td>\n",
       "      <td>M</td>\n",
       "      <td>charlie@example</td>\n",
       "      <td>20-07-2021</td>\n",
       "    </tr>\n",
       "    <tr>\n",
       "      <th>4</th>\n",
       "      <td>David</td>\n",
       "      <td>22.0</td>\n",
       "      <td>Mumbai</td>\n",
       "      <td>M</td>\n",
       "      <td>david@example.com</td>\n",
       "      <td>12-11-2019</td>\n",
       "    </tr>\n",
       "    <tr>\n",
       "      <th>5</th>\n",
       "      <td>NaN</td>\n",
       "      <td>28.0</td>\n",
       "      <td>Delhi</td>\n",
       "      <td>F</td>\n",
       "      <td>eve@domain.com</td>\n",
       "      <td>NaN</td>\n",
       "    </tr>\n",
       "    <tr>\n",
       "      <th>6</th>\n",
       "      <td>Alice</td>\n",
       "      <td>25.0</td>\n",
       "      <td>New York</td>\n",
       "      <td>F</td>\n",
       "      <td>alice@example.com</td>\n",
       "      <td>01-05-2021</td>\n",
       "    </tr>\n",
       "    <tr>\n",
       "      <th>7</th>\n",
       "      <td>Alice</td>\n",
       "      <td>25.0</td>\n",
       "      <td>New York</td>\n",
       "      <td>F</td>\n",
       "      <td>alice@example.com</td>\n",
       "      <td>01-05-2021</td>\n",
       "    </tr>\n",
       "    <tr>\n",
       "      <th>8</th>\n",
       "      <td>Charlie</td>\n",
       "      <td>NaN</td>\n",
       "      <td>Delhi</td>\n",
       "      <td>M</td>\n",
       "      <td>charlie@example</td>\n",
       "      <td>20-07-2021</td>\n",
       "    </tr>\n",
       "  </tbody>\n",
       "</table>\n",
       "</div>"
      ],
      "text/plain": [
       "      Name   Age         City Gender              Email   Join Date\n",
       "0    Alice  25.0     New York      F  alice@example.com  01-05-2021\n",
       "1  Charlie   NaN        Delhi      M    charlie@example  20-07-2021\n",
       "2      Bob  30.0  Los Angeles      M    bob@example.com  15-06-2020\n",
       "3  Charlie   NaN        Delhi      M    charlie@example  20-07-2021\n",
       "4    David  22.0       Mumbai      M  david@example.com  12-11-2019\n",
       "5      NaN  28.0        Delhi      F     eve@domain.com         NaN\n",
       "6    Alice  25.0     New York      F  alice@example.com  01-05-2021\n",
       "7    Alice  25.0     New York      F  alice@example.com  01-05-2021\n",
       "8  Charlie   NaN        Delhi      M    charlie@example  20-07-2021"
      ]
     },
     "execution_count": 4,
     "metadata": {},
     "output_type": "execute_result"
    }
   ],
   "source": [
    "df"
   ]
  },
  {
   "cell_type": "code",
   "execution_count": 14,
   "id": "f0299def-f65e-4a81-ae2b-a91bfbe1aa46",
   "metadata": {},
   "outputs": [],
   "source": [
    "df=df[df[\"Age\"]>23]"
   ]
  },
  {
   "cell_type": "code",
   "execution_count": 15,
   "id": "07fb4d6c-cc86-46ab-9b08-638e9e5c6c90",
   "metadata": {},
   "outputs": [
    {
     "data": {
      "text/html": [
       "<div>\n",
       "<style scoped>\n",
       "    .dataframe tbody tr th:only-of-type {\n",
       "        vertical-align: middle;\n",
       "    }\n",
       "\n",
       "    .dataframe tbody tr th {\n",
       "        vertical-align: top;\n",
       "    }\n",
       "\n",
       "    .dataframe thead th {\n",
       "        text-align: right;\n",
       "    }\n",
       "</style>\n",
       "<table border=\"1\" class=\"dataframe\">\n",
       "  <thead>\n",
       "    <tr style=\"text-align: right;\">\n",
       "      <th></th>\n",
       "      <th>Name</th>\n",
       "      <th>Age</th>\n",
       "      <th>City</th>\n",
       "      <th>Gender</th>\n",
       "      <th>Email</th>\n",
       "      <th>Join Date</th>\n",
       "    </tr>\n",
       "  </thead>\n",
       "  <tbody>\n",
       "    <tr>\n",
       "      <th>0</th>\n",
       "      <td>Alice</td>\n",
       "      <td>25.0</td>\n",
       "      <td>New York</td>\n",
       "      <td>F</td>\n",
       "      <td>alice@example.com</td>\n",
       "      <td>01-05-2021</td>\n",
       "    </tr>\n",
       "    <tr>\n",
       "      <th>2</th>\n",
       "      <td>Bob</td>\n",
       "      <td>30.0</td>\n",
       "      <td>Los Angeles</td>\n",
       "      <td>M</td>\n",
       "      <td>bob@example.com</td>\n",
       "      <td>15-06-2020</td>\n",
       "    </tr>\n",
       "    <tr>\n",
       "      <th>5</th>\n",
       "      <td>NaN</td>\n",
       "      <td>28.0</td>\n",
       "      <td>Delhi</td>\n",
       "      <td>F</td>\n",
       "      <td>eve@domain.com</td>\n",
       "      <td>NaN</td>\n",
       "    </tr>\n",
       "    <tr>\n",
       "      <th>6</th>\n",
       "      <td>Alice</td>\n",
       "      <td>25.0</td>\n",
       "      <td>New York</td>\n",
       "      <td>F</td>\n",
       "      <td>alice@example.com</td>\n",
       "      <td>01-05-2021</td>\n",
       "    </tr>\n",
       "    <tr>\n",
       "      <th>7</th>\n",
       "      <td>Alice</td>\n",
       "      <td>25.0</td>\n",
       "      <td>New York</td>\n",
       "      <td>F</td>\n",
       "      <td>alice@example.com</td>\n",
       "      <td>01-05-2021</td>\n",
       "    </tr>\n",
       "  </tbody>\n",
       "</table>\n",
       "</div>"
      ],
      "text/plain": [
       "    Name   Age         City Gender              Email   Join Date\n",
       "0  Alice  25.0     New York      F  alice@example.com  01-05-2021\n",
       "2    Bob  30.0  Los Angeles      M    bob@example.com  15-06-2020\n",
       "5    NaN  28.0        Delhi      F     eve@domain.com         NaN\n",
       "6  Alice  25.0     New York      F  alice@example.com  01-05-2021\n",
       "7  Alice  25.0     New York      F  alice@example.com  01-05-2021"
      ]
     },
     "execution_count": 15,
     "metadata": {},
     "output_type": "execute_result"
    }
   ],
   "source": [
    "df"
   ]
  },
  {
   "cell_type": "code",
   "execution_count": 16,
   "id": "e6437c7c-35bc-43b2-9775-d409b2c02578",
   "metadata": {},
   "outputs": [],
   "source": [
    "df.to_csv(\"cleaning_updated.csv\")"
   ]
  },
  {
   "cell_type": "code",
   "execution_count": 17,
   "id": "6b4f7463-54b7-4ea3-b408-5783f610ff76",
   "metadata": {},
   "outputs": [],
   "source": [
    "df.to_csv(\"cleaning_updated.csv\",index=False)"
   ]
  },
  {
   "cell_type": "code",
   "execution_count": 18,
   "id": "49daec1f-58fc-4628-995e-9f4a8b42e418",
   "metadata": {},
   "outputs": [],
   "source": [
    "df = pd.read_excel(\"book1.xlsx\")"
   ]
  },
  {
   "cell_type": "raw",
   "id": "2ad025b8-9ed5-4c13-83f3-6058b4924325",
   "metadata": {},
   "source": [
    "pd.read_excel(\"book1.xlsx\")"
   ]
  },
  {
   "cell_type": "code",
   "execution_count": 25,
   "id": "5bed42ed-f41b-4f3f-b32d-7aed0821700a",
   "metadata": {},
   "outputs": [],
   "source": [
    "df.to_excel(\"book1.xlsx\")"
   ]
  },
  {
   "cell_type": "code",
   "execution_count": 26,
   "id": "9aa40ed8-9df8-45d1-bbb9-f9ef3286e30c",
   "metadata": {},
   "outputs": [],
   "source": [
    "df.to_csv(\"book2_updated.csv\",index=False)"
   ]
  },
  {
   "cell_type": "raw",
   "id": "9134dbf8-fb23-4444-a5bb-e4c291c30800",
   "metadata": {},
   "source": [
    "with pd.ExcelWriter(\"book1.xlsx\") as writer:\n",
    "    df1.to_excel(writer, sheet_name=\"Summary\", index=False)\n",
    "    df2.to_excel(writer, sheet_name=\"Details\", index=False)"
   ]
  },
  {
   "cell_type": "markdown",
   "id": "3669e94e-bc30-4942-b1cc-8f0f93bd39cd",
   "metadata": {},
   "source": [
    "df = pd.package_json(\"data.json\")"
   ]
  },
  {
   "cell_type": "code",
   "execution_count": null,
   "id": "004fc333-702f-4052-bb6d-b8823850c34c",
   "metadata": {},
   "outputs": [],
   "source": []
  }
 ],
 "metadata": {
  "kernelspec": {
   "display_name": "Python 3 (ipykernel)",
   "language": "python",
   "name": "python3"
  },
  "language_info": {
   "codemirror_mode": {
    "name": "ipython",
    "version": 3
   },
   "file_extension": ".py",
   "mimetype": "text/x-python",
   "name": "python",
   "nbconvert_exporter": "python",
   "pygments_lexer": "ipython3",
   "version": "3.11.7"
  }
 },
 "nbformat": 4,
 "nbformat_minor": 5
}
